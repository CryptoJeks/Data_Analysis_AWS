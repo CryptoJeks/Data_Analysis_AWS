{
 "cells": [
  {
   "attachments": {},
   "cell_type": "markdown",
   "metadata": {
    "jp-MarkdownHeadingCollapsed": true
   },
   "source": [
    "# Objective \n",
    "Illustrate mechanisms within `sagemaker` and Azure ML to preprocess data sets: \n",
    "\n",
    "a. interactively for exploratory data analysis.\n",
    "\n",
    "b. in script mode (programmatically). "
   ]
  },
  {
   "attachments": {},
   "cell_type": "markdown",
   "metadata": {},
   "source": [
    "# Introduction"
   ]
  },
  {
   "cell_type": "markdown",
   "metadata": {},
   "source": [
    "Data is not always ready for analysis, we need to be able to quickly inspect data (as close to the source) as possible so we can get a sense of:\n",
    " - Missing Data\n",
    " - Inconsistent Data\n",
    " - Skew\n",
    " - Outliers\n",
    " - Duplicates\n",
    " - Biased Data"
   ]
  },
  {
   "cell_type": "markdown",
   "metadata": {},
   "source": [
    "Interactive data access could be used to understand the contours of data (i.e., assess data quality), identify issues (e.g., missing values, outliers) and select relevant features. Exploration fueled by interactive data access is a precursor to the programmatic execution of data pre-processing jobs that read raw data and write processed data."
   ]
  },
  {
   "attachments": {},
   "cell_type": "markdown",
   "metadata": {},
   "source": [
    "![preprocess](assets/preprocess.drawio.png)"
   ]
  },
  {
   "cell_type": "markdown",
   "metadata": {},
   "source": [
    "<div class=\"alert alert-block alert-warning\">\n",
    "\n",
    "<b>Business Context</b> \n",
    "    \n",
    "For this session consider the case of a popular diamond jeweller - Brilliant Earth - with 30 showrooms across the US facing a price prediction problem. A common customer question that echoes in their retail outlets is the impact on price because of changes in some aspects of the ornament. For example, usually customers ask: \"If I decreased the carat of the diamonds used in this design, by how much would the price reduce?\". Such queries often require an expert intervention on the shopfloor and result in a subdued customer experience. The company also wants to implement a price predictor tool on their website so customers can engage with the brand better. At the moment, no such tool exists and the business team estimates that a price predictor will improve traffic to the website and also improve the time spent on the website.\n",
    "\n",
    "The dataset used in this session is scraped from the [Brilliant Earth website](https://www.brilliantearth.com/) and hosted on [Open ML](https://www.openml.org/search?type=data&status=active&id=43355). This data is stored in a S3 bucket.\n",
    "\n",
    "</div>"
   ]
  },
  {
   "attachments": {},
   "cell_type": "markdown",
   "metadata": {},
   "source": [
    "An effective way to work with the `sagemaker` ecosystem is to use the `sagemaker` Python SDK to interface with several resources that underpin the ecosystem. This SDK is preinstalled in SageMaker Studio. Similarly, an effective way to work with the Azure ML ecosystem is to use the Python SDK (we use version 2).\n",
    "\n",
    "If the `sagemaker`/`azureml` package is used with tools beyond SageMaker Studio/Azure ML Studio (e.g., Visual Studio Code or local JupyterLab), ensure that proper access permissions (e.g., access keys) are provided to the tool."
   ]
  },
  {
   "attachments": {},
   "cell_type": "markdown",
   "metadata": {},
   "source": [
    "# Setup"
   ]
  },
  {
   "cell_type": "code",
   "execution_count": 1,
   "metadata": {},
   "outputs": [],
   "source": [
    "import pandas as pd\n",
    "import matplotlib.pyplot as plt\n",
    "import seaborn as sns"
   ]
  },
  {
   "cell_type": "code",
   "execution_count": 2,
   "metadata": {},
   "outputs": [],
   "source": [
    "sns.set_context('talk')"
   ]
  },
  {
   "attachments": {},
   "cell_type": "markdown",
   "metadata": {},
   "source": [
    "## AWS"
   ]
  },
  {
   "cell_type": "code",
   "execution_count": 3,
   "metadata": {},
   "outputs": [],
   "source": [
    "import sagemaker\n",
    "from sagemaker.sklearn.processing import SKLearnProcessor\n",
    "\n",
    "from sagemaker.processing import ProcessingInput, ProcessingOutput"
   ]
  },
  {
   "cell_type": "markdown",
   "metadata": {},
   "source": [
    "A `sagemaker` session is a cloud equivalent to a fully functional local development setup (i.e., access enabled to data and compute). We can point a session to a default bucket that will host all the artifacts accessed and created during the session (remember nothing stays local). "
   ]
  },
  {
   "cell_type": "code",
   "execution_count": 4,
   "metadata": {},
   "outputs": [],
   "source": [
    "session = sagemaker.Session()"
   ]
  },
  {
   "cell_type": "code",
   "execution_count": 5,
   "metadata": {},
   "outputs": [],
   "source": [
    "try:\n",
    "    aws_role = sagemaker.get_execution_role()\n",
    "except ValueError:\n",
    "    print(\"Config file not found on local machine, use SageMaker Studio\")"
   ]
  },
  {
   "cell_type": "markdown",
   "metadata": {},
   "source": [
    "From within SageMaker studio, execution role is inherited. Outside the Studio environment, the execution role should be explictly specified. This execution role should have [AmazonSageMakerFullAccess](https://docs.aws.amazon.com/sagemaker/latest/dg/security-iam-awsmanpol.html) permissions. Local compute [access](https://docs.aws.amazon.com/cli/latest/userguide/cli-configure-files.html) should also be [enabled](https://stackoverflow.com/a/47767351)."
   ]
  },
  {
   "cell_type": "code",
   "execution_count": 6,
   "metadata": {},
   "outputs": [
    {
     "name": "stdout",
     "output_type": "stream",
     "text": [
      "AWS execution role associated with the account arn:aws:iam::321112151583:role/default-sagemaker-access\n",
      "Default bucket associated with the account: sagemaker-ap-south-1-321112151583\n",
      "Default boto region associated with the account: ap-south-1\n"
     ]
    }
   ],
   "source": [
    "print(f\"AWS execution role associated with the account {aws_role}\")\n",
    "print(f\"Default bucket associated with the account: {session.default_bucket()}\")\n",
    "print(f\"Default boto region associated with the account: {session.boto_region_name}\")"
   ]
  },
  {
   "attachments": {},
   "cell_type": "markdown",
   "metadata": {},
   "source": [
    "We want this session to write data assets to a custom bucket, so we specify a default S3 bucket."
   ]
  },
  {
   "cell_type": "code",
   "execution_count": 7,
   "metadata": {},
   "outputs": [],
   "source": [
    "preprocessing_session = sagemaker.Session(\n",
    "    default_bucket=\"sagemaker-processing-example\"\n",
    ")"
   ]
  },
  {
   "cell_type": "code",
   "execution_count": 8,
   "metadata": {},
   "outputs": [
    {
     "data": {
      "text/plain": [
       "'sagemaker-processing-example'"
      ]
     },
     "execution_count": 8,
     "metadata": {},
     "output_type": "execute_result"
    }
   ],
   "source": [
    "preprocessing_session.default_bucket()"
   ]
  },
  {
   "attachments": {},
   "cell_type": "markdown",
   "metadata": {},
   "source": [
    "Notice how the default bucket is now changed."
   ]
  },
  {
   "attachments": {},
   "cell_type": "markdown",
   "metadata": {},
   "source": [
    "## Azure"
   ]
  },
  {
   "cell_type": "code",
   "execution_count": 1,
   "metadata": {},
   "outputs": [],
   "source": [
    "from azure.ai.ml import MLClient\n",
    "from azure.identity import DefaultAzureCredential\n",
    "\n",
    "from azure.ai.ml.entities import Data\n",
    "from azure.ai.ml.constants import AssetTypes\n",
    "\n",
    "from azure.ai.ml import Input, Output\n",
    "from azure.ai.ml import command"
   ]
  },
  {
   "cell_type": "code",
   "execution_count": 2,
   "metadata": {},
   "outputs": [],
   "source": [
    "subscription_id = \"5bcad9c4-40fb-4136-b614-cc90116dd8b3\"\n",
    "resource_group = \"tf\"\n",
    "workspace = \"cloud-teach\""
   ]
  },
  {
   "cell_type": "markdown",
   "metadata": {},
   "source": [
    "From VMs within the Azure ML workspace, the default Azure credentials are inherited. However, interactive browser credentials could be used to authenticate an Azure account to the Azure ML workspace."
   ]
  },
  {
   "cell_type": "code",
   "execution_count": 3,
   "metadata": {},
   "outputs": [],
   "source": [
    "az_credentials = DefaultAzureCredential(\n",
    "    exclude_interactive_browser_credential=False\n",
    ")"
   ]
  },
  {
   "cell_type": "code",
   "execution_count": 4,
   "metadata": {},
   "outputs": [],
   "source": [
    "ml_client = MLClient(\n",
    "    az_credentials, subscription_id, resource_group, workspace\n",
    ")"
   ]
  },
  {
   "attachments": {},
   "cell_type": "markdown",
   "metadata": {},
   "source": [
    "# Exploratory Data Analysis"
   ]
  },
  {
   "attachments": {},
   "cell_type": "markdown",
   "metadata": {},
   "source": [
    "Before we plan a full-fledged data processing pipeline, we will want to interact with data sets stored in cloud stores for exploratory analysis."
   ]
  },
  {
   "attachments": {},
   "cell_type": "markdown",
   "metadata": {},
   "source": [
    "## Cloud File Systems (`fsspec`)"
   ]
  },
  {
   "attachments": {},
   "cell_type": "markdown",
   "metadata": {},
   "source": [
    "![fsspec](assets/fsspec.drawio.png)"
   ]
  },
  {
   "attachments": {},
   "cell_type": "markdown",
   "metadata": {},
   "source": [
    "The [cloud file system specification (`fsspec`)](https://filesystem-spec.readthedocs.io/en/latest/?badge=latest) is a Python library developed to provide a unified interface for accessing various file storage systems, including those offered by AWS and Azure.\n",
    "\n",
    "`fsspec` aims to abstract away the differences between different cloud storage providers, local file systems, and other remote storage systems. It allows developers to interact with these storage systems using a common set of methods and handles various functionalities like reading, writing, and managing files.\n",
    "\n",
    "When it comes to AWS and Azure, both cloud providers offer their own file storage services. AWS provides Amazon S3 (Simple Storage Service) and Azure offers Azure Blob Storage. These services are object storage solutions that allow you to store and retrieve large amounts of unstructured data.\n",
    "\n",
    "With `fsspec`, you can interact with AWS S3 and Azure Blob Storage using a consistent API, regardless of the underlying implementation details. This means that you can write code that works with both AWS and Azure storage systems without having to change the code for each provider (e.g., `pd.read_csv` that takes S3 location *or* Azure blob store location as the input).\n",
    "\n",
    "`fsspec` provides a set of core classes and functions that define the interface for file operations. It supports features like file listing, reading and writing files, handling directories, and metadata operations. By utilizing fsspec, developers can seamlessly switch between different storage systems without rewriting their code.\n",
    "\n",
    "Once `fsspec` is installed (`pip install fsspec`), we can read the data stored in cloud services (e.g., S3) as if we were accessing a local file, without worrying about the specifics of the cloud file systems."
   ]
  },
  {
   "attachments": {},
   "cell_type": "markdown",
   "metadata": {},
   "source": [
    "## AWS"
   ]
  },
  {
   "attachments": {},
   "cell_type": "markdown",
   "metadata": {},
   "source": [
    "While `fsspec` handles the file system abstractions, we will still need to connect AWS S3 credentials to allow for file system access. This is achieved through the [`s3fs` package](https://github.com/fsspec/s3fs.git) (`pip install s3fs`). [Caveat: current version of `s3fs` is pinned to a previous version of AWS dependencies](https://github.com/fsspec/s3fs/issues/528). It is recommended that this package be installed in its own environment so it does not break `sagemaker` dependencies. "
   ]
  },
  {
   "attachments": {},
   "cell_type": "markdown",
   "metadata": {},
   "source": [
    "For interactive data access on small datasets in `S3`, `pandas` could be used to directly read data from the `S3` location (the processor is handy for a read/write workflow that we will see shortly). In this case, the dataset is in a folder within the default bucket of the `sagemaker` account (remember we changed the defult bucket)."
   ]
  },
  {
   "cell_type": "code",
   "execution_count": 13,
   "metadata": {},
   "outputs": [],
   "source": [
    "diamond_prices = pd.read_csv(\"s3://sagemaker-ap-south-1-321112151583/prices/diamond-prices.csv\")"
   ]
  },
  {
   "attachments": {},
   "cell_type": "markdown",
   "metadata": {},
   "source": [
    "As the above code indicates, pandas is able to read a file from S3 using the familiar `read_csv` function. Behind the scenes, pandas uses `fsspec` to access the cloud file system and `s3fs` to get access to this file system."
   ]
  },
  {
   "cell_type": "code",
   "execution_count": 14,
   "metadata": {},
   "outputs": [
    {
     "name": "stdout",
     "output_type": "stream",
     "text": [
      "<class 'pandas.core.frame.DataFrame'>\n",
      "RangeIndex: 119307 entries, 0 to 119306\n",
      "Data columns (total 11 columns):\n",
      " #   Column        Non-Null Count   Dtype  \n",
      "---  ------        --------------   -----  \n",
      " 0   id            119307 non-null  float64\n",
      " 1   url           119307 non-null  object \n",
      " 2   shape         119307 non-null  object \n",
      " 3   price         119307 non-null  float64\n",
      " 4   carat         119307 non-null  float64\n",
      " 5   cut           119307 non-null  object \n",
      " 6   color         119307 non-null  object \n",
      " 7   clarity       119307 non-null  object \n",
      " 8   report        119307 non-null  object \n",
      " 9   type          119307 non-null  object \n",
      " 10  date_fetched  119307 non-null  object \n",
      "dtypes: float64(3), object(8)\n",
      "memory usage: 10.0+ MB\n"
     ]
    }
   ],
   "source": [
    "diamond_prices.info()"
   ]
  },
  {
   "attachments": {},
   "cell_type": "markdown",
   "metadata": {},
   "source": [
    "Note that the pandas `DataFrame` created in the above code is a Python object on the local machine. For extremely large files, this process of accessing data remains the same but we might have to shift to a larger VM configuration or use a distributed data access package (e.g., `dask`)."
   ]
  },
  {
   "cell_type": "code",
   "execution_count": 15,
   "metadata": {},
   "outputs": [
    {
     "data": {
      "text/html": [
       "<div>\n",
       "<style scoped>\n",
       "    .dataframe tbody tr th:only-of-type {\n",
       "        vertical-align: middle;\n",
       "    }\n",
       "\n",
       "    .dataframe tbody tr th {\n",
       "        vertical-align: top;\n",
       "    }\n",
       "\n",
       "    .dataframe thead th {\n",
       "        text-align: right;\n",
       "    }\n",
       "</style>\n",
       "<table border=\"1\" class=\"dataframe\">\n",
       "  <thead>\n",
       "    <tr style=\"text-align: right;\">\n",
       "      <th></th>\n",
       "      <th>id</th>\n",
       "      <th>url</th>\n",
       "      <th>shape</th>\n",
       "      <th>price</th>\n",
       "      <th>carat</th>\n",
       "      <th>cut</th>\n",
       "      <th>color</th>\n",
       "      <th>clarity</th>\n",
       "      <th>report</th>\n",
       "      <th>type</th>\n",
       "      <th>date_fetched</th>\n",
       "    </tr>\n",
       "  </thead>\n",
       "  <tbody>\n",
       "    <tr>\n",
       "      <th>0</th>\n",
       "      <td>10086429.0</td>\n",
       "      <td>https://www.brilliantearth.com//loose-diamonds...</td>\n",
       "      <td>Round</td>\n",
       "      <td>400.0</td>\n",
       "      <td>0.30</td>\n",
       "      <td>Very Good</td>\n",
       "      <td>J</td>\n",
       "      <td>SI2</td>\n",
       "      <td>GIA</td>\n",
       "      <td>natural</td>\n",
       "      <td>2020-11-29 12-26 PM</td>\n",
       "    </tr>\n",
       "    <tr>\n",
       "      <th>1</th>\n",
       "      <td>10016334.0</td>\n",
       "      <td>https://www.brilliantearth.com//loose-diamonds...</td>\n",
       "      <td>Emerald</td>\n",
       "      <td>400.0</td>\n",
       "      <td>0.31</td>\n",
       "      <td>Ideal</td>\n",
       "      <td>I</td>\n",
       "      <td>SI1</td>\n",
       "      <td>GIA</td>\n",
       "      <td>natural</td>\n",
       "      <td>2020-11-29 12-26 PM</td>\n",
       "    </tr>\n",
       "    <tr>\n",
       "      <th>2</th>\n",
       "      <td>9947216.0</td>\n",
       "      <td>https://www.brilliantearth.com//loose-diamonds...</td>\n",
       "      <td>Emerald</td>\n",
       "      <td>400.0</td>\n",
       "      <td>0.30</td>\n",
       "      <td>Ideal</td>\n",
       "      <td>I</td>\n",
       "      <td>VS2</td>\n",
       "      <td>GIA</td>\n",
       "      <td>natural</td>\n",
       "      <td>2020-11-29 12-26 PM</td>\n",
       "    </tr>\n",
       "    <tr>\n",
       "      <th>3</th>\n",
       "      <td>10083437.0</td>\n",
       "      <td>https://www.brilliantearth.com//loose-diamonds...</td>\n",
       "      <td>Round</td>\n",
       "      <td>400.0</td>\n",
       "      <td>0.30</td>\n",
       "      <td>Ideal</td>\n",
       "      <td>I</td>\n",
       "      <td>SI2</td>\n",
       "      <td>GIA</td>\n",
       "      <td>natural</td>\n",
       "      <td>2020-11-29 12-26 PM</td>\n",
       "    </tr>\n",
       "    <tr>\n",
       "      <th>4</th>\n",
       "      <td>9946136.0</td>\n",
       "      <td>https://www.brilliantearth.com//loose-diamonds...</td>\n",
       "      <td>Emerald</td>\n",
       "      <td>400.0</td>\n",
       "      <td>0.30</td>\n",
       "      <td>Ideal</td>\n",
       "      <td>I</td>\n",
       "      <td>SI1</td>\n",
       "      <td>GIA</td>\n",
       "      <td>natural</td>\n",
       "      <td>2020-11-29 12-26 PM</td>\n",
       "    </tr>\n",
       "  </tbody>\n",
       "</table>\n",
       "</div>"
      ],
      "text/plain": [
       "           id                                                url    shape   \n",
       "0  10086429.0  https://www.brilliantearth.com//loose-diamonds...    Round  \\\n",
       "1  10016334.0  https://www.brilliantearth.com//loose-diamonds...  Emerald   \n",
       "2   9947216.0  https://www.brilliantearth.com//loose-diamonds...  Emerald   \n",
       "3  10083437.0  https://www.brilliantearth.com//loose-diamonds...    Round   \n",
       "4   9946136.0  https://www.brilliantearth.com//loose-diamonds...  Emerald   \n",
       "\n",
       "   price  carat        cut color clarity report     type         date_fetched  \n",
       "0  400.0   0.30  Very Good     J     SI2    GIA  natural  2020-11-29 12-26 PM  \n",
       "1  400.0   0.31      Ideal     I     SI1    GIA  natural  2020-11-29 12-26 PM  \n",
       "2  400.0   0.30      Ideal     I     VS2    GIA  natural  2020-11-29 12-26 PM  \n",
       "3  400.0   0.30      Ideal     I     SI2    GIA  natural  2020-11-29 12-26 PM  \n",
       "4  400.0   0.30      Ideal     I     SI1    GIA  natural  2020-11-29 12-26 PM  "
      ]
     },
     "execution_count": 15,
     "metadata": {},
     "output_type": "execute_result"
    }
   ],
   "source": [
    "diamond_prices.head()"
   ]
  },
  {
   "attachments": {},
   "cell_type": "markdown",
   "metadata": {},
   "source": [
    "At this point, we are in familiar territory since the cloud file is now a Python object on the local compute. We can conduct EDA as usual."
   ]
  },
  {
   "attachments": {},
   "cell_type": "markdown",
   "metadata": {},
   "source": [
    "*What does the following code do?*"
   ]
  },
  {
   "cell_type": "code",
   "execution_count": 16,
   "metadata": {},
   "outputs": [
    {
     "data": {
      "text/plain": [
       "id              0\n",
       "url             0\n",
       "shape           0\n",
       "price           0\n",
       "carat           0\n",
       "cut             0\n",
       "color           0\n",
       "clarity         0\n",
       "report          0\n",
       "type            0\n",
       "date_fetched    0\n",
       "dtype: int64"
      ]
     },
     "execution_count": 16,
     "metadata": {},
     "output_type": "execute_result"
    }
   ],
   "source": [
    "diamond_prices.isnull().sum()"
   ]
  },
  {
   "attachments": {},
   "cell_type": "markdown",
   "metadata": {},
   "source": [
    "*Inspect the following plots and comment if there is any evidence of skew in price*"
   ]
  },
  {
   "cell_type": "code",
   "execution_count": 17,
   "metadata": {},
   "outputs": [
    {
     "data": {
      "text/plain": [
       "<Figure size 900x300 with 0 Axes>"
      ]
     },
     "metadata": {},
     "output_type": "display_data"
    },
    {
     "data": {
      "image/png": "[encoded data removed]",
      "text/plain": [
       "<Figure size 500x500 with 1 Axes>"
      ]
     },
     "metadata": {},
     "output_type": "display_data"
    }
   ],
   "source": [
    "plt.figure(figsize=(9, 3))\n",
    "sns.displot(x='price', data=diamond_prices, bins=100)\n",
    "plt.show()"
   ]
  },
  {
   "cell_type": "code",
   "execution_count": 18,
   "metadata": {},
   "outputs": [
    {
     "data": {
      "image/png": "[encoded data removed]",
      "text/plain": [
       "<Figure size 900x300 with 1 Axes>"
      ]
     },
     "metadata": {},
     "output_type": "display_data"
    }
   ],
   "source": [
    "plt.figure(figsize=(9, 3))\n",
    "sns.boxplot(x='price', data=diamond_prices)\n",
    "plt.show()"
   ]
  },
  {
   "attachments": {},
   "cell_type": "markdown",
   "metadata": {},
   "source": [
    "The novelty here is not in the plots themselves; they are not any different from what you have seen before. What makes it novel is that the data used to create these plots is directly streamed from a cloud data store."
   ]
  },
  {
   "attachments": {},
   "cell_type": "markdown",
   "metadata": {},
   "source": [
    "## Azure"
   ]
  },
  {
   "attachments": {},
   "cell_type": "markdown",
   "metadata": {},
   "source": [
    "Azure provides a convenient way to manage datasets using a feature called data assets. Data assets are built on top of `fsspec` and offer additional functionalities such as tracking and versioning of different datasets.\n",
    "\n",
    "Unlike the actual data files stored in blob storage, data assets act as a lightweight wrapper that includes valuable metadata without incurring any extra cost. This allows us to register a dataset and easily update its version whenever new data is added."
   ]
  },
  {
   "cell_type": "code",
   "execution_count": 5,
   "metadata": {},
   "outputs": [
    {
     "name": "stdout",
     "output_type": "stream",
     "text": [
      "winequality-local\n",
      "winequality-red\n",
      "user-likes-media\n",
      "socialmediaengagement\n",
      "imdb_reviews\n",
      "diamond-prices-jan\n",
      "diamond-prices-feb\n",
      "wine-quality-indicator\n",
      "diamond-prices-may\n"
     ]
    }
   ],
   "source": [
    "for registered_data in ml_client.data.list():\n",
    "    print(registered_data.name)"
   ]
  },
  {
   "cell_type": "code",
   "execution_count": 20,
   "metadata": {},
   "outputs": [],
   "source": [
    "registered_data_asset = ml_client.data.get(name=\"diamond-prices-jan\", version=1)"
   ]
  },
  {
   "cell_type": "code",
   "execution_count": 21,
   "metadata": {},
   "outputs": [
    {
     "data": {
      "text/plain": [
       "'azureml://subscriptions/5bcad9c4-40fb-4136-b614-cc90116dd8b3/resourcegroups/tf/workspaces/cloud-teach/datastores/workspaceblobstore/paths/LocalUpload/1fd544f96a4f86d5c113930ea82e2f95/diamond-prices.csv'"
      ]
     },
     "execution_count": 21,
     "metadata": {},
     "output_type": "execute_result"
    }
   ],
   "source": [
    "registered_data_asset.path"
   ]
  },
  {
   "attachments": {},
   "cell_type": "markdown",
   "metadata": {},
   "source": [
    "Notice how the file path starts with `azureml://`, much like `s3://`. As is the case with S3, we will still need to allow `fsspec` to access the Azure credentials in order to interact with the cloud data store. Here is where the `azureml-fsspec` package comes in (`pip install azureml-fsspec`).\n",
    "\n",
    "Once installed, we can use the same function `read_csv` from `pandas` to now point to the Azure ML data location and read the data as a Python object (this same function was pointing to a S3 location before)."
   ]
  },
  {
   "cell_type": "code",
   "execution_count": 22,
   "metadata": {},
   "outputs": [],
   "source": [
    "diamond_prices = pd.read_csv(registered_data_asset.path)"
   ]
  },
  {
   "cell_type": "code",
   "execution_count": 23,
   "metadata": {},
   "outputs": [
    {
     "data": {
      "image/png": "[encoded data removed]",
      "text/plain": [
       "<Figure size 900x300 with 1 Axes>"
      ]
     },
     "metadata": {},
     "output_type": "display_data"
    }
   ],
   "source": [
    "plt.figure(figsize=(9, 3))\n",
    "sns.boxplot(x='price', data=diamond_prices)\n",
    "plt.show()"
   ]
  },
  {
   "attachments": {},
   "cell_type": "markdown",
   "metadata": {},
   "source": [
    "## Data Ingress into Cloud"
   ]
  },
  {
   "attachments": {},
   "cell_type": "markdown",
   "metadata": {},
   "source": [
    "Up until now, we have focused on data files already residing in the cloud (S3 or Azure Blob Storage). But how does the data initially make its way into the data store? While the responsibility of handling data ingress from external sources into the cloud lies with data engineers, it's beneficial to view blob stores as services that can be leveraged by other services to upload data. \n",
    "\n",
    "Here are three examples of how data from external sources can be stored in cloud stores:\n",
    "\n",
    "1. Data Extraction from Relational Databases: Suppose there is a scenario where transactions from an on-premise relational database need to be stored in AWS S3. In this case, a data extraction process can be implemented to query the database, summarize the relevant data, and then push it to an S3 bucket. This ensures that the transaction data is securely stored in the cloud for further analysis or archival purposes.\n",
    "\n",
    "2. Real-time Data Streaming: Imagine a situation where a company collects real-time data from various sources, such as IoT devices or social media feeds, and wants to store it in Azure Blob Storage. In this scenario, a data streaming pipeline can be set up using technologies like Apache Kafka or Azure Event Hubs. The streaming pipeline continuously captures the incoming data, transforms it if necessary, and then stores it in Azure Blob Storage for immediate or later use.\n",
    "\n",
    "3. Web Scraping and Data Ingestion: Web scraping is a common technique used to extract data from websites. Let's say there is a requirement to gather data from multiple websites and store it in AWS S3. To achieve this, a web scraping script can be developed using tools like BeautifulSoup or Scrapy. The script can crawl the targeted websites, extract the desired information, and finally push the scraped data to AWS S3, making it readily accessible for analysis or other applications.\n",
    "\n",
    "In each of these examples, data from external sources is processed or extracted and then stored in cloud storage services like AWS S3, or Azure Blob Storage. These cloud stores offer scalability, durability, and accessibility, enabling efficient data storage and subsequent utilization in various cloud-based applications."
   ]
  },
  {
   "attachments": {},
   "cell_type": "markdown",
   "metadata": {},
   "source": [
    "As an illustration of how external data can be written to cloud data stores (such as S3 or Azure Blob Store), let's examine the transfer of local data to these stores."
   ]
  },
  {
   "attachments": {},
   "cell_type": "markdown",
   "metadata": {},
   "source": [
    "### AWS"
   ]
  },
  {
   "attachments": {},
   "cell_type": "markdown",
   "metadata": {},
   "source": [
    "Let's explore the process of copying an external dataset (in this case stored locally) to AWS S3 using the `sagemaker` session as the execution agent."
   ]
  },
  {
   "cell_type": "code",
   "execution_count": 24,
   "metadata": {},
   "outputs": [
    {
     "data": {
      "text/plain": [
       "'sagemaker-processing-example'"
      ]
     },
     "execution_count": 24,
     "metadata": {},
     "output_type": "execute_result"
    }
   ],
   "source": [
    "preprocessing_session.default_bucket()"
   ]
  },
  {
   "cell_type": "code",
   "execution_count": 25,
   "metadata": {},
   "outputs": [],
   "source": [
    "local_data_path = 'data/diamond-prices.csv'"
   ]
  },
  {
   "cell_type": "code",
   "execution_count": 26,
   "metadata": {},
   "outputs": [],
   "source": [
    "s3_dataset_path = preprocessing_session.upload_data(\n",
    "    path=local_data_path\n",
    ")"
   ]
  },
  {
   "cell_type": "code",
   "execution_count": 27,
   "metadata": {},
   "outputs": [
    {
     "name": "stdout",
     "output_type": "stream",
     "text": [
      "Dataset uploaded to S3 location: s3://sagemaker-processing-example/data/diamond-prices.csv\n"
     ]
    }
   ],
   "source": [
    "print(f\"Dataset uploaded to S3 location: {s3_dataset_path}\")"
   ]
  },
  {
   "attachments": {},
   "cell_type": "markdown",
   "metadata": {},
   "source": [
    "Notice how the local directory path (`data/`) is replicated in the S3 bucket. "
   ]
  },
  {
   "attachments": {},
   "cell_type": "markdown",
   "metadata": {},
   "source": [
    "### Azure"
   ]
  },
  {
   "attachments": {},
   "cell_type": "markdown",
   "metadata": {},
   "source": [
    "Let's explore the process of registering an external dataset as a data asset in the Azure ML environment. In this scenario, we will copy a local dataset to Azure blob storage and then proceed to register the file as a data asset."
   ]
  },
  {
   "cell_type": "code",
   "execution_count": 28,
   "metadata": {},
   "outputs": [],
   "source": [
    "local_data_path = 'data/diamond-prices.csv'"
   ]
  },
  {
   "cell_type": "code",
   "execution_count": 31,
   "metadata": {},
   "outputs": [],
   "source": [
    "data_asset = Data(\n",
    "    path=local_data_path,\n",
    "    type=AssetTypes.URI_FILE,\n",
    "    description=\"A dataset of diamond prices scraped from the Brilliant Earth website\",\n",
    "    name=\"diamond-prices-may\",\n",
    "    version=\"2\"\n",
    ")"
   ]
  },
  {
   "cell_type": "code",
   "execution_count": 32,
   "metadata": {},
   "outputs": [
    {
     "data": {
      "text/plain": [
       "Data({'skip_validation': False, 'mltable_schema_url': None, 'referenced_uris': None, 'type': 'uri_file', 'is_anonymous': False, 'auto_increment_version': False, 'auto_delete_setting': None, 'name': 'diamond-prices-may', 'description': 'A dataset of diamond prices scraped from the Brilliant Earth website', 'tags': {}, 'properties': {}, 'print_as_yaml': True, 'id': '/subscriptions/5bcad9c4-40fb-4136-b614-cc90116dd8b3/resourceGroups/tf/providers/Microsoft.MachineLearningServices/workspaces/cloud-teach/data/diamond-prices-may/versions/2', 'Resource__source_path': None, 'base_path': '/home/pavankumargurazada/Desktop/GL/DSC/Week-3_ Data pre-processing/v2', 'creation_context': <azure.ai.ml.entities._system_data.SystemData object at 0x7f3fc6e688e0>, 'serialize': <msrest.serialization.Serializer object at 0x7f3fc6e68cd0>, 'version': '2', 'latest_version': None, 'path': 'azureml://subscriptions/5bcad9c4-40fb-4136-b614-cc90116dd8b3/resourcegroups/tf/workspaces/cloud-teach/datastores/workspaceblobstore/paths/LocalUpload/1fd544f96a4f86d5c113930ea82e2f95/diamond-prices.csv', 'datastore': None})"
      ]
     },
     "execution_count": 32,
     "metadata": {},
     "output_type": "execute_result"
    }
   ],
   "source": [
    "ml_client.data.create_or_update(data_asset)"
   ]
  },
  {
   "attachments": {},
   "cell_type": "markdown",
   "metadata": {},
   "source": [
    "Once the data asset is registered, it can be accessed and inspected as described in the previous section."
   ]
  },
  {
   "cell_type": "code",
   "execution_count": 33,
   "metadata": {},
   "outputs": [
    {
     "name": "stdout",
     "output_type": "stream",
     "text": [
      "winequality-local\n",
      "winequality-red\n",
      "user-likes-media\n",
      "socialmediaengagement\n",
      "imdb_reviews\n",
      "diamond-prices-jan\n",
      "diamond-prices-feb\n",
      "wine-quality-indicator\n",
      "diamond-prices-may\n"
     ]
    }
   ],
   "source": [
    "for registered_data in ml_client.data.list():\n",
    "    print(registered_data.name)"
   ]
  },
  {
   "attachments": {},
   "cell_type": "markdown",
   "metadata": {},
   "source": [
    "In summary, to execute EDA (Exploratory Data Analysis), we need to access data stored in the cloud and run ad-hoc aggregations on the data. The `fsspec` package simplifies this process by enabling common functions like `read_csv` to access cloud file systems just as easily as local file systems."
   ]
  },
  {
   "attachments": {},
   "cell_type": "markdown",
   "metadata": {},
   "source": [
    "# Executing Processing Jobs"
   ]
  },
  {
   "cell_type": "markdown",
   "metadata": {},
   "source": [
    "## The idea of a job"
   ]
  },
  {
   "attachments": {},
   "cell_type": "markdown",
   "metadata": {},
   "source": [
    "Exploratory data analysis often leads to the identification of data quality issues, which require a set of actions to be taken for correction. These actions, represented as a Python script, are executed on a compute cluster (a group of virtual machines) and referred to as a \"job\". A processing job runs the script on the designated compute cluster and saves the resulting output to cloud storage. Examples of typical preprocessing jobs are scaling or standardizing data, creating meaningful features based on raw data, and dropping rows that contain missing values.\n",
    "\n",
    "Let us now see how processing jobs are executed on AWS and Azure."
   ]
  },
  {
   "attachments": {},
   "cell_type": "markdown",
   "metadata": {},
   "source": [
    "## AWS SageMaker"
   ]
  },
  {
   "attachments": {},
   "cell_type": "markdown",
   "metadata": {},
   "source": [
    "### Creating an execution environment"
   ]
  },
  {
   "attachments": {},
   "cell_type": "markdown",
   "metadata": {},
   "source": [
    "In `sagemaker`, we utilize framework-specific preprocessors (such as `scikit-learn`, `TensorFlow`, `PyTorch`) to facilitate the necessary preprocessing steps. These preprocessors assist in achieving the desired data preparation. Preprocessing jobs are executed within a customized compute environment where all the required Python packages are preinstalled. It's important to note that this compute environment can be a cluster of machines. In `sagemaker`, there is a specific environment designed for `scikit-learn` called the `SKLearnProcessor` class."
   ]
  },
  {
   "cell_type": "code",
   "execution_count": 34,
   "metadata": {},
   "outputs": [],
   "source": [
    "sklearn_processor = SKLearnProcessor(\n",
    "    framework_version=\"1.0-1\",\n",
    "    role=aws_role,\n",
    "    instance_type=\"ml.t3.medium\",\n",
    "    instance_count=1,\n",
    "    volume_size_in_gb=1,\n",
    "    sagemaker_session=preprocessing_session\n",
    ")"
   ]
  },
  {
   "attachments": {},
   "cell_type": "markdown",
   "metadata": {},
   "source": [
    "By using the `aws_role` as a parameter the processor assumes the execution role afforded by `sagemaker`. This processor assembles the specified compute (EC2) and the execution environment (Python + `scikit-learn`) and acts as a backbone on which processing scripts could be run. "
   ]
  },
  {
   "attachments": {},
   "cell_type": "markdown",
   "metadata": {},
   "source": [
    "![aws-processing-job](assets/aws-processing-job.drawio.png)"
   ]
  },
  {
   "attachments": {},
   "cell_type": "markdown",
   "metadata": {},
   "source": [
    "Notice how we are specifying the type of compute instance, the number of instances we want in the cluster and the disk size of the instances. At this stage, all infrastructure we need to execute a processing job is in place."
   ]
  },
  {
   "attachments": {},
   "cell_type": "markdown",
   "metadata": {},
   "source": [
    "By default, job artefacts (i.e., intended output from the execution of a specified script on inputs) are stored in the default bucket associated with the sagemaker session. However, we can specify a custom bucket to store specific job artifacts by changing the session parameters (as we did by creating a `processing_session` attached to a custom bucket). "
   ]
  },
  {
   "attachments": {},
   "cell_type": "markdown",
   "metadata": {},
   "source": [
    "### Executing pre-processing jobs"
   ]
  },
  {
   "attachments": {},
   "cell_type": "markdown",
   "metadata": {},
   "source": [
    "When a preprocessing job is executed, there are certain data movement requirements. The data from S3 needs to be mapped to the compute cluster, and the output generated by the job must be stored persistently back to S3. To simplify this process, SageMaker has a mechanism in place.\n",
    "\n",
    "[SageMaker maps inputs from S3 to a specific directory on the EC2 instances within a cluster](https://docs.aws.amazon.com/sagemaker/latest/dg/processing-job.html): `/opt/ml/processing/input`. This directory serves as the storage location for the input data. When a script is executed on the EC2 instance, it can access this directory, retrieve the necessary input data, perform the required processing steps, and store the resulting output artifacts in another directory: `/opt/ml/processing/output`.\n",
    "\n",
    "It's important to note that all the data contained within the `/opt/ml/processing/output` directory is automatically copied to the bucket associated with the `sagemaker` session. This copying operation creates a subdirectory under the name of the job, ensuring proper organization and storage of the processed data."
   ]
  },
  {
   "attachments": {},
   "cell_type": "markdown",
   "metadata": {},
   "source": [
    "![preprocessing](assets/aws-processing-map.drawio.png)"
   ]
  },
  {
   "attachments": {},
   "cell_type": "markdown",
   "metadata": {},
   "source": [
    "Note that `sagemaker` will create a compute cluster as needed and then remove it once the job is executed. If any output is not stored, it will be lost when the job is finished."
   ]
  },
  {
   "attachments": {},
   "cell_type": "markdown",
   "metadata": {},
   "source": [
    "Let us now look at a couple of common pre-processing jobs to illustrate assembly and execution of data pre-processing pipelines using `sagemaker`. In these two examples, while the execution environment stays the same, the scripts that run on this environment will change from example to example."
   ]
  },
  {
   "attachments": {},
   "cell_type": "markdown",
   "metadata": {},
   "source": [
    "#### Task 1: Train-Test Split"
   ]
  },
  {
   "attachments": {},
   "cell_type": "markdown",
   "metadata": {},
   "source": [
    "In this example, we read a dataset from a S3 folder and use a remote cluster to split the data set into train, validation and test. We save these three splits in the S3 bucket specified for this job above (`sagemaker-processing-example`)."
   ]
  },
  {
   "cell_type": "code",
   "execution_count": 35,
   "metadata": {},
   "outputs": [
    {
     "name": "stderr",
     "output_type": "stream",
     "text": [
      "INFO:sagemaker:Creating processing-job with name 2023-05-29-train-test-split-002\n"
     ]
    }
   ],
   "source": [
    "sklearn_processor.run(\n",
    "    code=\"aws/split.py\",\n",
    "    inputs=[\n",
    "        ProcessingInput(input_name=\"full_data\",\n",
    "                        source=s3_dataset_path, \n",
    "                        destination=\"/opt/ml/processing/input\")\n",
    "    ],\n",
    "    outputs=[\n",
    "        ProcessingOutput(output_name=\"training_data\", \n",
    "                         source=\"/opt/ml/processing/output/train\"),\n",
    "        ProcessingOutput(output_name=\"validation_data\", \n",
    "                         source=\"/opt/ml/processing/output/validation\"),\n",
    "        ProcessingOutput(output_name=\"test_data\", \n",
    "                         source=\"/opt/ml/processing/output/test\"),\n",
    "    ],\n",
    "    job_name=\"2023-05-29-train-test-split-002\",\n",
    "    wait=False\n",
    ")"
   ]
  },
  {
   "attachments": {},
   "cell_type": "markdown",
   "metadata": {},
   "source": [
    "This above code is using the `sklearn_processor` object to execute a preprocessing script on SageMaker. Let's go through each part of the code:\n",
    "\n",
    "1. `sklearn_processor.run`: This is a method that runs a processing job using the SageMaker Scikit-learn Processor.\n",
    "\n",
    "2. `code=\"aws/split.py\"`: Specifies the location of the preprocessing script file. In this case, the script is located at `aws/split.py`.\n",
    "\n",
    "3. `inputs`: This is a list of `ProcessingInput` objects that represent the inputs for the preprocessing script. In the code provided, there is only one input specified:\n",
    "\n",
    "   - `ProcessingInput(input_name=\"full_data\", source=s3_dataset_path, destination=\"/opt/ml/processing/input\")`: This input is named \"full_data\" and it specifies the source location of the input data, `s3_dataset_path`, which is an S3 path. The destination is set to `/opt/ml/processing/input`, which is the location within the processing container where the input data will be available.\n",
    "\n",
    "4. `outputs`: This is a list of `ProcessingOutput` objects that represent the outputs generated by the preprocessing script. In the code provided, there are three outputs specified:\n",
    "\n",
    "   - `ProcessingOutput(output_name=\"training_data\", source=\"/opt/ml/processing/output/train\")`: This output is named \"training_data\" and it specifies the source location of the training data output, which is set to `/opt/ml/processing/output/train`.\n",
    "   \n",
    "   - `ProcessingOutput(output_name=\"validation_data\", source=\"/opt/ml/processing/output/validation\")`: This output is named \"validation_data\" and it specifies the source location of the validation data output, which is set to `/opt/ml/processing/output/validation`.\n",
    "   \n",
    "   - `ProcessingOutput(output_name=\"test_data\", source=\"/opt/ml/processing/output/test\")`: This output is named \"test_data\" and it specifies the source location of the test data output, which is set to `/opt/ml/processing/output/test`.\n",
    "\n",
    "5. `job_name=\"2023-05-29-train-test-split-002\"`: Specifies a unique name for the processing job. In this case, the job name is set to \"2023-05-29-train-test-split-002\".\n",
    "\n",
    "6. `wait=False`: This parameter indicates whether the `run` method should wait for the job to complete or return immediately. In this case, it is set to `False`, which means the method will return immediately without waiting for the job to finish."
   ]
  },
  {
   "cell_type": "code",
   "execution_count": 36,
   "metadata": {},
   "outputs": [
    {
     "data": {
      "text/plain": [
       "{'ProcessingInputs': [{'InputName': 'full_data',\n",
       "   'AppManaged': False,\n",
       "   'S3Input': {'S3Uri': 's3://sagemaker-processing-example/data/diamond-prices.csv',\n",
       "    'LocalPath': '/opt/ml/processing/input',\n",
       "    'S3DataType': 'S3Prefix',\n",
       "    'S3InputMode': 'File',\n",
       "    'S3DataDistributionType': 'FullyReplicated',\n",
       "    'S3CompressionType': 'None'}},\n",
       "  {'InputName': 'code',\n",
       "   'AppManaged': False,\n",
       "   'S3Input': {'S3Uri': 's3://sagemaker-processing-example/2023-05-29-train-test-split-002/input/code/split.py',\n",
       "    'LocalPath': '/opt/ml/processing/input/code',\n",
       "    'S3DataType': 'S3Prefix',\n",
       "    'S3InputMode': 'File',\n",
       "    'S3DataDistributionType': 'FullyReplicated',\n",
       "    'S3CompressionType': 'None'}}],\n",
       " 'ProcessingOutputConfig': {'Outputs': [{'OutputName': 'training_data',\n",
       "    'S3Output': {'S3Uri': 's3://sagemaker-processing-example/2023-05-29-train-test-split-002/output/training_data',\n",
       "     'LocalPath': '/opt/ml/processing/output/train',\n",
       "     'S3UploadMode': 'EndOfJob'},\n",
       "    'AppManaged': False},\n",
       "   {'OutputName': 'validation_data',\n",
       "    'S3Output': {'S3Uri': 's3://sagemaker-processing-example/2023-05-29-train-test-split-002/output/validation_data',\n",
       "     'LocalPath': '/opt/ml/processing/output/validation',\n",
       "     'S3UploadMode': 'EndOfJob'},\n",
       "    'AppManaged': False},\n",
       "   {'OutputName': 'test_data',\n",
       "    'S3Output': {'S3Uri': 's3://sagemaker-processing-example/2023-05-29-train-test-split-002/output/test_data',\n",
       "     'LocalPath': '/opt/ml/processing/output/test',\n",
       "     'S3UploadMode': 'EndOfJob'},\n",
       "    'AppManaged': False}]},\n",
       " 'ProcessingJobName': '2023-05-29-train-test-split-002',\n",
       " 'ProcessingResources': {'ClusterConfig': {'InstanceCount': 1,\n",
       "   'InstanceType': 'ml.t3.medium',\n",
       "   'VolumeSizeInGB': 1}},\n",
       " 'StoppingCondition': {'MaxRuntimeInSeconds': 86400},\n",
       " 'AppSpecification': {'ImageUri': '720646828776.dkr.ecr.ap-south-1.amazonaws.com/sagemaker-scikit-learn:1.0-1-cpu-py3',\n",
       "  'ContainerEntrypoint': ['python3',\n",
       "   '/opt/ml/processing/input/code/split.py']},\n",
       " 'RoleArn': 'arn:aws:iam::321112151583:role/default-sagemaker-access',\n",
       " 'ProcessingJobArn': 'arn:aws:sagemaker:ap-south-1:321112151583:processing-job/2023-05-29-train-test-split-002',\n",
       " 'ProcessingJobStatus': 'InProgress',\n",
       " 'LastModifiedTime': datetime.datetime(2023, 5, 29, 15, 44, 31, 436000, tzinfo=tzlocal()),\n",
       " 'CreationTime': datetime.datetime(2023, 5, 29, 15, 44, 31, 153000, tzinfo=tzlocal()),\n",
       " 'ResponseMetadata': {'RequestId': 'd163b5fd-dbf4-435c-ab2a-6884d22a114a',\n",
       "  'HTTPStatusCode': 200,\n",
       "  'HTTPHeaders': {'x-amzn-requestid': 'd163b5fd-dbf4-435c-ab2a-6884d22a114a',\n",
       "   'content-type': 'application/x-amz-json-1.1',\n",
       "   'content-length': '2029',\n",
       "   'date': 'Mon, 29 May 2023 10:14:32 GMT'},\n",
       "  'RetryAttempts': 0}}"
      ]
     },
     "execution_count": 36,
     "metadata": {},
     "output_type": "execute_result"
    }
   ],
   "source": [
    "sklearn_processor.latest_job.describe()"
   ]
  },
  {
   "attachments": {},
   "cell_type": "markdown",
   "metadata": {},
   "source": [
    "#### Task 2: Data Transformation"
   ]
  },
  {
   "attachments": {},
   "cell_type": "markdown",
   "metadata": {},
   "source": [
    "Let's create a processing pipeline that performs two data transformation steps: `StandardScaler()` on numeric features and `OneHotEncoder()` on categorical features. The script responsible for executing these transformation steps is called `transform.py`. It also splits the input data into training and testing sets."
   ]
  },
  {
   "cell_type": "code",
   "execution_count": 37,
   "metadata": {},
   "outputs": [
    {
     "name": "stderr",
     "output_type": "stream",
     "text": [
      "INFO:sagemaker:Creating processing-job with name 2023-05-29-data-transformation-002\n"
     ]
    }
   ],
   "source": [
    "sklearn_processor.run(\n",
    "    code=\"aws/transform.py\",\n",
    "    inputs=[\n",
    "        ProcessingInput(input_name=\"full_data\",\n",
    "                        source=s3_dataset_path, \n",
    "                        destination=\"/opt/ml/processing/input\")\n",
    "    ],\n",
    "    outputs=[\n",
    "        ProcessingOutput(output_name=\"training_data\", \n",
    "                         source=\"/opt/ml/processing/output/train\"),\n",
    "        ProcessingOutput(output_name=\"test_data\", \n",
    "                         source=\"/opt/ml/processing/output/test\"),\n",
    "    ],\n",
    "    job_name=\"2023-05-29-data-transformation-002\",\n",
    "    wait=False\n",
    ")"
   ]
  },
  {
   "attachments": {},
   "cell_type": "markdown",
   "metadata": {},
   "source": [
    "Notice how the only major difference from the previous subsection is the script that needs to be run. The mapping from input to the cluster and the output from the cluster to a S3 bucket always follows the same pattern. The folder mapping (i.e., `/opt/*`) that enables persistent data storage execution is always the same."
   ]
  },
  {
   "cell_type": "code",
   "execution_count": 38,
   "metadata": {},
   "outputs": [
    {
     "data": {
      "text/plain": [
       "{'ProcessingInputs': [{'InputName': 'full_data',\n",
       "   'AppManaged': False,\n",
       "   'S3Input': {'S3Uri': 's3://sagemaker-processing-example/data/diamond-prices.csv',\n",
       "    'LocalPath': '/opt/ml/processing/input',\n",
       "    'S3DataType': 'S3Prefix',\n",
       "    'S3InputMode': 'File',\n",
       "    'S3DataDistributionType': 'FullyReplicated',\n",
       "    'S3CompressionType': 'None'}},\n",
       "  {'InputName': 'code',\n",
       "   'AppManaged': False,\n",
       "   'S3Input': {'S3Uri': 's3://sagemaker-processing-example/2023-05-29-data-transformation-002/input/code/transform.py',\n",
       "    'LocalPath': '/opt/ml/processing/input/code',\n",
       "    'S3DataType': 'S3Prefix',\n",
       "    'S3InputMode': 'File',\n",
       "    'S3DataDistributionType': 'FullyReplicated',\n",
       "    'S3CompressionType': 'None'}}],\n",
       " 'ProcessingOutputConfig': {'Outputs': [{'OutputName': 'training_data',\n",
       "    'S3Output': {'S3Uri': 's3://sagemaker-processing-example/2023-05-29-data-transformation-002/output/training_data',\n",
       "     'LocalPath': '/opt/ml/processing/output/train',\n",
       "     'S3UploadMode': 'EndOfJob'},\n",
       "    'AppManaged': False},\n",
       "   {'OutputName': 'test_data',\n",
       "    'S3Output': {'S3Uri': 's3://sagemaker-processing-example/2023-05-29-data-transformation-002/output/test_data',\n",
       "     'LocalPath': '/opt/ml/processing/output/test',\n",
       "     'S3UploadMode': 'EndOfJob'},\n",
       "    'AppManaged': False}]},\n",
       " 'ProcessingJobName': '2023-05-29-data-transformation-002',\n",
       " 'ProcessingResources': {'ClusterConfig': {'InstanceCount': 1,\n",
       "   'InstanceType': 'ml.t3.medium',\n",
       "   'VolumeSizeInGB': 1}},\n",
       " 'StoppingCondition': {'MaxRuntimeInSeconds': 86400},\n",
       " 'AppSpecification': {'ImageUri': '720646828776.dkr.ecr.ap-south-1.amazonaws.com/sagemaker-scikit-learn:1.0-1-cpu-py3',\n",
       "  'ContainerEntrypoint': ['python3',\n",
       "   '/opt/ml/processing/input/code/transform.py']},\n",
       " 'RoleArn': 'arn:aws:iam::321112151583:role/default-sagemaker-access',\n",
       " 'ProcessingJobArn': 'arn:aws:sagemaker:ap-south-1:321112151583:processing-job/2023-05-29-data-transformation-002',\n",
       " 'ProcessingJobStatus': 'InProgress',\n",
       " 'LastModifiedTime': datetime.datetime(2023, 5, 29, 15, 45, 17, 235000, tzinfo=tzlocal()),\n",
       " 'CreationTime': datetime.datetime(2023, 5, 29, 15, 45, 16, 604000, tzinfo=tzlocal()),\n",
       " 'ResponseMetadata': {'RequestId': '1d954d50-1d20-4f4d-8b8a-e63410662bc4',\n",
       "  'HTTPStatusCode': 200,\n",
       "  'HTTPHeaders': {'x-amzn-requestid': '1d954d50-1d20-4f4d-8b8a-e63410662bc4',\n",
       "   'content-type': 'application/x-amz-json-1.1',\n",
       "   'content-length': '1811',\n",
       "   'date': 'Mon, 29 May 2023 10:15:17 GMT'},\n",
       "  'RetryAttempts': 0}}"
      ]
     },
     "execution_count": 38,
     "metadata": {},
     "output_type": "execute_result"
    }
   ],
   "source": [
    "sklearn_processor.latest_job.describe()"
   ]
  },
  {
   "cell_type": "markdown",
   "metadata": {},
   "source": [
    "## Azure ML"
   ]
  },
  {
   "attachments": {},
   "cell_type": "markdown",
   "metadata": {},
   "source": [
    "Mapping data stored in Azure ML blob stores to compute clusters works similarly to SageMaker, but without the need to specify a particular location in the ephemeral compute cluster. Instead, registered data can be referenced using the dataset name and version.\n",
    "\n",
    "To demonstrate a preprocessing pipeline on Azure ML, we will take data from a registered data asset and bring it into a compute cluster. In this process, we will execute the `transform.py` script, which accesses the input data and generates multiple outputs. The main distinction from running this process on AWS is that the inputs and outputs are parameterized, and the compute clusters are aware of the Azure ML compute paths."
   ]
  },
  {
   "attachments": {},
   "cell_type": "markdown",
   "metadata": {},
   "source": [
    "![azure-processing](assets/azure-processing-map.drawio.png)"
   ]
  },
  {
   "cell_type": "code",
   "execution_count": 68,
   "metadata": {},
   "outputs": [
    {
     "name": "stdout",
     "output_type": "stream",
     "text": [
      "stagingarea\n",
      "azureml_globaldatasets\n",
      "workspaceworkingdirectory\n",
      "workspaceartifactstore\n",
      "workspacefilestore\n",
      "workspaceblobstore\n"
     ]
    }
   ],
   "source": [
    "for datastore in ml_client.datastores.list():\n",
    "    print(datastore.name)"
   ]
  },
  {
   "cell_type": "code",
   "execution_count": 69,
   "metadata": {},
   "outputs": [],
   "source": [
    "datastore_path = \"azureml://datastores/workspaceblobstore/paths/training-data/\""
   ]
  },
  {
   "cell_type": "code",
   "execution_count": 70,
   "metadata": {},
   "outputs": [],
   "source": [
    "my_job_inputs = {\n",
    "    \"input_data\": Input(type=AssetTypes.URI_FILE, \n",
    "                        path=\"azureml:diamond-prices-jan:1\")\n",
    "}\n",
    "\n",
    "my_job_outputs = {\n",
    "    \"output_datastore\": Output(type=AssetTypes.URI_FOLDER,\n",
    "                               path=datastore_path)\n",
    "}"
   ]
  },
  {
   "cell_type": "code",
   "execution_count": 71,
   "metadata": {},
   "outputs": [],
   "source": [
    "job = command(\n",
    "    code=\"./azure\",\n",
    "    command=\"python transform.py --input_data ${{inputs.input_data}} --output_datastore ${{outputs.output_datastore}}\",\n",
    "    inputs=my_job_inputs,\n",
    "    outputs=my_job_outputs,\n",
    "    environment=\"AzureML-sklearn-0.24-ubuntu18.04-py37-cpu@latest\",\n",
    "    compute=\"c002\",\n",
    "    experiment_name=\"2023-05-29_test-train-split-experiment-002\",\n",
    "    display_name=\"test-train-split-experiment-002\"\n",
    ")"
   ]
  },
  {
   "cell_type": "code",
   "execution_count": 72,
   "metadata": {},
   "outputs": [
    {
     "name": "stderr",
     "output_type": "stream",
     "text": [
      "\u001b[32mUploading azure (0.0 MBs): 100%|██████████| 2010/2010 [00:00<00:00, 70437.14it/s]\n",
      "\u001b[39m\n",
      "\n",
      "INFO:azure.identity._internal.interactive:InteractiveBrowserCredential.get_token succeeded\n",
      "INFO:azure.identity._credentials.default:DefaultAzureCredential acquired a token from InteractiveBrowserCredential\n"
     ]
    },
    {
     "data": {
      "text/html": [
       "<table style=\"width:100%\"><tr><th>Experiment</th><th>Name</th><th>Type</th><th>Status</th><th>Details Page</th></tr><tr><td>2023-05-29_test-train-split-experiment-002</td><td>sharp_airport_6r3fq6fkts</td><td>command</td><td>Starting</td><td><a href=\"https://ml.azure.com/runs/sharp_airport_6r3fq6fkts?wsid=/subscriptions/5bcad9c4-40fb-4136-b614-cc90116dd8b3/resourcegroups/tf/workspaces/cloud-teach&amp;tid=7d76d361-8277-4708-a477-64e8366cd1bc\" target=\"_blank\" rel=\"noopener\">Link to Azure Machine Learning studio</a></td></tr></table>"
      ],
      "text/plain": [
       "Command({'parameters': {}, 'init': False, 'name': 'sharp_airport_6r3fq6fkts', 'type': 'command', 'status': 'Starting', 'log_files': None, 'description': None, 'tags': {}, 'properties': {'_azureml.ComputeTargetType': 'amlctrain', 'ContentSnapshotId': 'be6209f9-d828-4535-a9fb-6a0684169353'}, 'print_as_yaml': True, 'id': '/subscriptions/5bcad9c4-40fb-4136-b614-cc90116dd8b3/resourceGroups/tf/providers/Microsoft.MachineLearningServices/workspaces/cloud-teach/jobs/sharp_airport_6r3fq6fkts', 'Resource__source_path': None, 'base_path': '/home/pavankumargurazada/Desktop/GL/DSC/Week-3_ Data pre-processing/v2', 'creation_context': <azure.ai.ml.entities._system_data.SystemData object at 0x7f3fca930f40>, 'serialize': <msrest.serialization.Serializer object at 0x7f3fca9345b0>, 'allowed_keys': {}, 'key_restriction': False, 'logger': <Logger attr_dict (INFO)>, 'display_name': 'test-train-split-experiment-002', 'experiment_name': '2023-05-29_test-train-split-experiment-002', 'compute': 'c002', 'services': {'Tracking': {'endpoint': 'azureml://centralindia.api.azureml.ms/mlflow/v1.0/subscriptions/5bcad9c4-40fb-4136-b614-cc90116dd8b3/resourceGroups/tf/providers/Microsoft.MachineLearningServices/workspaces/cloud-teach?', 'type': 'Tracking'}, 'Studio': {'endpoint': 'https://ml.azure.com/runs/sharp_airport_6r3fq6fkts?wsid=/subscriptions/5bcad9c4-40fb-4136-b614-cc90116dd8b3/resourcegroups/tf/workspaces/cloud-teach&tid=7d76d361-8277-4708-a477-64e8366cd1bc', 'type': 'Studio'}}, 'comment': None, 'job_inputs': {'input_data': {'type': 'uri_file', 'path': 'diamond-prices-jan:1', 'mode': 'ro_mount'}}, 'job_outputs': {'output_datastore': {'type': 'uri_folder', 'path': 'azureml://datastores/workspaceblobstore/paths/training-data/', 'mode': 'rw_mount'}, 'default': {'type': 'uri_folder', 'path': 'azureml://datastores/workspaceartifactstore/ExperimentRun/dcid.sharp_airport_6r3fq6fkts', 'mode': 'rw_mount'}}, 'inputs': {'input_data': <azure.ai.ml.entities._job.pipeline._io.base.NodeInput object at 0x7f3fca934820>}, 'outputs': {'output_datastore': <azure.ai.ml.entities._job.pipeline._io.base.NodeOutput object at 0x7f3fca934970>, 'default': <azure.ai.ml.entities._job.pipeline._io.base.NodeOutput object at 0x7f3fca934eb0>}, 'component': CommandComponent({'intellectual_property': None, 'auto_increment_version': True, 'source': 'REMOTE.WORKSPACE.JOB', 'is_anonymous': False, 'auto_delete_setting': None, 'name': 'sharp_airport_6r3fq6fkts', 'description': None, 'tags': {}, 'properties': {}, 'print_as_yaml': True, 'id': None, 'Resource__source_path': None, 'base_path': PosixPath('.'), 'creation_context': <azure.ai.ml.entities._system_data.SystemData object at 0x7f3fca930f40>, 'serialize': <msrest.serialization.Serializer object at 0x7f3fca934b50>, 'command': 'python transform.py --input_data ${{inputs.input_data}} --output_datastore ${{outputs.output_datastore}}', 'code': '/subscriptions/5bcad9c4-40fb-4136-b614-cc90116dd8b3/resourceGroups/tf/providers/Microsoft.MachineLearningServices/workspaces/cloud-teach/codes/e95a9f2c-ae7b-48ef-a25b-9d02e684d5d2/versions/1', 'environment_variables': {}, 'environment': 'azureml:AzureML-sklearn-0.24-ubuntu18.04-py37-cpu@latest', 'distribution': None, 'resources': None, 'queue_settings': None, 'version': None, 'latest_version': None, 'schema': None, 'type': 'command', 'display_name': 'test-train-split-experiment-002', 'is_deterministic': True, 'inputs': {'input_data': {'type': 'uri_file', 'path': '/subscriptions/5bcad9c4-40fb-4136-b614-cc90116dd8b3/resourceGroups/tf/providers/Microsoft.MachineLearningServices/workspaces/cloud-teach/data/diamond-prices-jan/versions/1', 'mode': 'ro_mount'}}, 'outputs': {'output_datastore': {'type': 'uri_folder', 'path': 'azureml://datastores/workspaceblobstore/paths/training-data/', 'mode': 'rw_mount'}, 'default': {'type': 'uri_folder', 'path': 'azureml://datastores/workspaceartifactstore/ExperimentRun/dcid.sharp_airport_6r3fq6fkts', 'mode': 'rw_mount'}}, 'yaml_str': None, 'other_parameter': {'status': 'Starting', 'parameters': {}}, 'additional_includes': [], 'CommandComponent__additional_includes_obj': None}), 'referenced_control_flow_node_instance_id': None, 'kwargs': {'services': {'Tracking': {'endpoint': 'azureml://centralindia.api.azureml.ms/mlflow/v1.0/subscriptions/5bcad9c4-40fb-4136-b614-cc90116dd8b3/resourceGroups/tf/providers/Microsoft.MachineLearningServices/workspaces/cloud-teach?', 'type': 'Tracking'}, 'Studio': {'endpoint': 'https://ml.azure.com/runs/sharp_airport_6r3fq6fkts?wsid=/subscriptions/5bcad9c4-40fb-4136-b614-cc90116dd8b3/resourcegroups/tf/workspaces/cloud-teach&tid=7d76d361-8277-4708-a477-64e8366cd1bc', 'type': 'Studio'}}, 'status': 'Starting', 'creation_context': <azure.ai.ml.entities._system_data.SystemData object at 0x7f3fca930f40>}, 'instance_id': 'a7430a6a-3cf4-41e6-9985-3ce396608ceb', 'source': 'BUILDER', 'validate_required_input_not_provided': True, 'limits': None, 'identity': None, 'distribution': None, 'environment_variables': {}, 'environment': 'azureml:AzureML-sklearn-0.24-ubuntu18.04-py37-cpu@latest', 'resources': {'instance_count': 1, 'shm_size': '2g'}, 'queue_settings': None, 'swept': False})"
      ]
     },
     "execution_count": 72,
     "metadata": {},
     "output_type": "execute_result"
    }
   ],
   "source": [
    "ml_client.create_or_update(job)"
   ]
  },
  {
   "cell_type": "code",
   "execution_count": 77,
   "metadata": {},
   "outputs": [
    {
     "name": "stderr",
     "output_type": "stream",
     "text": [
      "INFO:azure.identity._internal.interactive:InteractiveBrowserCredential.get_token succeeded\n",
      "INFO:azure.identity._credentials.default:DefaultAzureCredential acquired a token from InteractiveBrowserCredential\n"
     ]
    },
    {
     "data": {
      "text/html": [
       "<table style=\"width:100%\"><tr><th>Experiment</th><th>Name</th><th>Type</th><th>Status</th><th>Details Page</th></tr><tr><td>2023-05-29_test-train-split-experiment-002</td><td>sharp_airport_6r3fq6fkts</td><td>command</td><td>Completed</td><td><a href=\"https://ml.azure.com/runs/sharp_airport_6r3fq6fkts?wsid=/subscriptions/5bcad9c4-40fb-4136-b614-cc90116dd8b3/resourcegroups/tf/workspaces/cloud-teach&amp;tid=7d76d361-8277-4708-a477-64e8366cd1bc\" target=\"_blank\" rel=\"noopener\">Link to Azure Machine Learning studio</a></td></tr></table>"
      ],
      "text/plain": [
       "Command({'parameters': {}, 'init': False, 'name': 'sharp_airport_6r3fq6fkts', 'type': 'command', 'status': 'Completed', 'log_files': None, 'description': None, 'tags': {'_aml_system_ComputeTargetStatus': '{\"AllocationState\":\"resizing\",\"PreparingNodeCount\":0,\"RunningNodeCount\":0,\"CurrentNodeCount\":1}'}, 'properties': {'_azureml.ComputeTargetType': 'amlctrain', 'ContentSnapshotId': 'be6209f9-d828-4535-a9fb-6a0684169353', 'ProcessInfoFile': 'azureml-logs/process_info.json', 'ProcessStatusFile': 'azureml-logs/process_status.json'}, 'print_as_yaml': True, 'id': '/subscriptions/5bcad9c4-40fb-4136-b614-cc90116dd8b3/resourceGroups/tf/providers/Microsoft.MachineLearningServices/workspaces/cloud-teach/jobs/sharp_airport_6r3fq6fkts', 'Resource__source_path': None, 'base_path': '/home/pavankumargurazada/Desktop/GL/DSC/Week-3_ Data pre-processing/v2', 'creation_context': <azure.ai.ml.entities._system_data.SystemData object at 0x7f3fca930940>, 'serialize': <msrest.serialization.Serializer object at 0x7f3fca8c5430>, 'allowed_keys': {}, 'key_restriction': False, 'logger': <Logger attr_dict (INFO)>, 'display_name': 'test-train-split-experiment-002', 'experiment_name': '2023-05-29_test-train-split-experiment-002', 'compute': 'c002', 'services': {'Tracking': {'endpoint': 'azureml://centralindia.api.azureml.ms/mlflow/v1.0/subscriptions/5bcad9c4-40fb-4136-b614-cc90116dd8b3/resourceGroups/tf/providers/Microsoft.MachineLearningServices/workspaces/cloud-teach?', 'type': 'Tracking'}, 'Studio': {'endpoint': 'https://ml.azure.com/runs/sharp_airport_6r3fq6fkts?wsid=/subscriptions/5bcad9c4-40fb-4136-b614-cc90116dd8b3/resourcegroups/tf/workspaces/cloud-teach&tid=7d76d361-8277-4708-a477-64e8366cd1bc', 'type': 'Studio'}}, 'comment': None, 'job_inputs': {'input_data': {'type': 'uri_file', 'path': 'diamond-prices-jan:1', 'mode': 'ro_mount'}}, 'job_outputs': {'output_datastore': {'type': 'uri_folder', 'path': 'azureml://datastores/workspaceblobstore/paths/training-data/', 'mode': 'rw_mount'}, 'default': {'type': 'uri_folder', 'path': 'azureml://datastores/workspaceartifactstore/ExperimentRun/dcid.sharp_airport_6r3fq6fkts', 'mode': 'rw_mount'}}, 'inputs': {'input_data': <azure.ai.ml.entities._job.pipeline._io.base.NodeInput object at 0x7f3fca8c5070>}, 'outputs': {'output_datastore': <azure.ai.ml.entities._job.pipeline._io.base.NodeOutput object at 0x7f3fca8c5c70>, 'default': <azure.ai.ml.entities._job.pipeline._io.base.NodeOutput object at 0x7f3fca8c5f10>}, 'component': CommandComponent({'intellectual_property': None, 'auto_increment_version': True, 'source': 'REMOTE.WORKSPACE.JOB', 'is_anonymous': False, 'auto_delete_setting': None, 'name': 'sharp_airport_6r3fq6fkts', 'description': None, 'tags': {'_aml_system_ComputeTargetStatus': '{\"AllocationState\":\"resizing\",\"PreparingNodeCount\":0,\"RunningNodeCount\":0,\"CurrentNodeCount\":1}'}, 'properties': {}, 'print_as_yaml': True, 'id': None, 'Resource__source_path': None, 'base_path': PosixPath('.'), 'creation_context': <azure.ai.ml.entities._system_data.SystemData object at 0x7f3fca930940>, 'serialize': <msrest.serialization.Serializer object at 0x7f3fca8c5520>, 'command': 'python transform.py --input_data ${{inputs.input_data}} --output_datastore ${{outputs.output_datastore}}', 'code': '/subscriptions/5bcad9c4-40fb-4136-b614-cc90116dd8b3/resourceGroups/tf/providers/Microsoft.MachineLearningServices/workspaces/cloud-teach/codes/e95a9f2c-ae7b-48ef-a25b-9d02e684d5d2/versions/1', 'environment_variables': {}, 'environment': 'azureml:AzureML-sklearn-0.24-ubuntu18.04-py37-cpu@latest', 'distribution': None, 'resources': None, 'queue_settings': None, 'version': None, 'latest_version': None, 'schema': None, 'type': 'command', 'display_name': 'test-train-split-experiment-002', 'is_deterministic': True, 'inputs': {'input_data': {'type': 'uri_file', 'path': '/subscriptions/5bcad9c4-40fb-4136-b614-cc90116dd8b3/resourceGroups/tf/providers/Microsoft.MachineLearningServices/workspaces/cloud-teach/data/diamond-prices-jan/versions/1', 'mode': 'ro_mount'}}, 'outputs': {'output_datastore': {'type': 'uri_folder', 'path': 'azureml://datastores/workspaceblobstore/paths/training-data/', 'mode': 'rw_mount'}, 'default': {'type': 'uri_folder', 'path': 'azureml://datastores/workspaceartifactstore/ExperimentRun/dcid.sharp_airport_6r3fq6fkts', 'mode': 'rw_mount'}}, 'yaml_str': None, 'other_parameter': {'status': 'Completed', 'parameters': {}}, 'additional_includes': [], 'CommandComponent__additional_includes_obj': None}), 'referenced_control_flow_node_instance_id': None, 'kwargs': {'services': {'Tracking': {'endpoint': 'azureml://centralindia.api.azureml.ms/mlflow/v1.0/subscriptions/5bcad9c4-40fb-4136-b614-cc90116dd8b3/resourceGroups/tf/providers/Microsoft.MachineLearningServices/workspaces/cloud-teach?', 'type': 'Tracking'}, 'Studio': {'endpoint': 'https://ml.azure.com/runs/sharp_airport_6r3fq6fkts?wsid=/subscriptions/5bcad9c4-40fb-4136-b614-cc90116dd8b3/resourcegroups/tf/workspaces/cloud-teach&tid=7d76d361-8277-4708-a477-64e8366cd1bc', 'type': 'Studio'}}, 'status': 'Completed', 'creation_context': <azure.ai.ml.entities._system_data.SystemData object at 0x7f3fca930940>}, 'instance_id': '4dbef720-2d51-4c56-980c-42eaf8d1d210', 'source': 'BUILDER', 'validate_required_input_not_provided': True, 'limits': None, 'identity': None, 'distribution': None, 'environment_variables': {}, 'environment': 'azureml:AzureML-sklearn-0.24-ubuntu18.04-py37-cpu@latest', 'resources': {'instance_count': 1, 'shm_size': '2g'}, 'queue_settings': None, 'swept': False})"
      ]
     },
     "execution_count": 77,
     "metadata": {},
     "output_type": "execute_result"
    }
   ],
   "source": [
    "ml_client.jobs.get(\"sharp_airport_6r3fq6fkts\")"
   ]
  },
  {
   "attachments": {},
   "cell_type": "markdown",
   "metadata": {},
   "source": [
    "The Azure Machine Learning Studio page linked above provides references to the data generated using the `transform.py` script. To confirm the contents of the output data, we can examine the output datastore mentioned in the job details."
   ]
  }
 ],
 "metadata": {
  "kernelspec": {
   "display_name": "Python 3 (ipykernel)",
   "language": "python",
   "name": "python3"
  },
  "language_info": {
   "codemirror_mode": {
    "name": "ipython",
    "version": 3
   },
   "file_extension": ".py",
   "mimetype": "text/x-python",
   "name": "python",
   "nbconvert_exporter": "python",
   "pygments_lexer": "ipython3",
   "version": "3.9.16"
  }
 },
 "nbformat": 4,
 "nbformat_minor": 4
}
